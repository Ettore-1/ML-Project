{
 "cells": [
  {
   "cell_type": "code",
   "execution_count": 4,
   "metadata": {},
   "outputs": [],
   "source": [
    "def preprocessing(abcd_csv, clas, lp):\n",
    "    \n",
    "    # Libraries: Standard ones\n",
    "    import pandas as pd\n",
    "    import numpy as np\n",
    "    import matplotlib.pyplot as plt\n",
    "    import random as rnd\n",
    "\n",
    "    from sklearn.preprocessing import StandardScaler\n",
    "    from sklearn.model_selection import train_test_split\n",
    "    \n",
    "    # Load the data: data_banknote_authentification\n",
    "    data = pd.read_csv(abcd_csv,sep=\";\")\n",
    "    # Statistical summary of the data\n",
    "    data.describe() \n",
    "    \n",
    "    # X/Y separation\n",
    "    if isinstance(data[clas][0], str):\n",
    "        Y = np.multiply([data[clas]==data[clas][0]],1)[0]\n",
    "    else:\n",
    "        Y = data[clas]\n",
    "    data.drop(clas, 1, inplace=True)\n",
    "    for c in data:\n",
    "        if isinstance(data[c][lp], str):\n",
    "            a = np.multiply([data[c] == data[c][lp]],1)\n",
    "            data.drop(c, 1, inplace=True)\n",
    "            data[c] = a[0]\n",
    "        data[c] = np.nan_to_num(data[c])\n",
    "    \n",
    "    # Correlate columns \n",
    "    corr_matrix = data.corr().abs()\n",
    "    high_corr_var=np.where(corr_matrix>0.75)\n",
    "    high_corr_var=np.array([(corr_matrix.columns[x],corr_matrix.columns[y]) for x,y in zip(*high_corr_var) if x!=y and x<y])\n",
    "    drop_corr = []\n",
    "    for i in range(len(high_corr_var)):\n",
    "        if high_corr_var[i][0] not in drop_corr and high_corr_var[i][1] not in drop_corr:\n",
    "            c = high_corr_var[i][0]\n",
    "            drop_corr.append(c)\n",
    "            data.drop(c, 1, inplace=True)\n",
    "        elif high_corr_var[i][0] in drop_corr:\n",
    "            c = high_corr_var[i][1]\n",
    "            drop_corr.append(c)\n",
    "            data.drop(c, 1, inplace=True)\n",
    "        elif high_corr_var[i][1] in drop_corr:\n",
    "            c = high_corr_var[i][0]\n",
    "            drop_corr.append(c)\n",
    "            data.drop(c, 1, inplace=True)\n",
    "    X = data\n",
    "    X = StandardScaler().fit_transform(X)\n",
    "    x_train, x_test, y_train, y_test = train_test_split(X, Y, test_size=0.20, random_state=42)\n",
    "    return  x_train, x_test, y_train, y_test"
   ]
  },
  {
   "cell_type": "code",
   "execution_count": 7,
   "metadata": {
    "collapsed": true
   },
   "outputs": [
    {
     "name": "stdout",
     "output_type": "stream",
     "text": [
      "529     0\n",
      "243     0\n",
      "1310    1\n",
      "664     0\n",
      "745     0\n",
      "       ..\n",
      "1095    1\n",
      "1130    1\n",
      "1294    1\n",
      "860     1\n",
      "1126    1\n",
      "Name: class, Length: 1098, dtype: int64\n"
     ]
    }
   ],
   "source": [
    "x_train, x_test, y_train, y_test = preprocessing(\"data_banknote_authentication.csv\", 'class', 0)\n",
    "print(y_train)"
   ]
  },
  {
   "cell_type": "code",
   "execution_count": null,
   "metadata": {},
   "outputs": [],
   "source": []
  },
  {
   "cell_type": "code",
   "execution_count": null,
   "metadata": {},
   "outputs": [],
   "source": [
    "C = 1.0  # SVM regularization parameter\n",
    "models = (svm.SVC(kernel='linear', C=C),\n",
    "          svm.SVC(kernel='poly', degree=2, gamma='auto', C=C),\n",
    "          svm.SVC(kernel='rbf', gamma='auto', C=C),\n",
    "          svm.SVC(kernel='sigmoid', gamma=1./150, C=C))\n",
    "models = (clf.fit(x_train, y_train) for clf in models)\n",
    "\n",
    "scores = (clf.score(test_x,test_y) for clf in models)\n",
    "\n",
    "# title for the plots\n",
    "titles = ('SVC with linear kernel',\n",
    "          'SVC with polynomial (degree 2) kernel',\n",
    "          'SVC with RBF kernel',\n",
    "          'SVC with sigmoid kernel')\n",
    "\n",
    "\n"
   ]
  }
 ],
 "metadata": {
  "kernelspec": {
   "display_name": "Python 3",
   "language": "python",
   "name": "python3"
  },
  "language_info": {
   "codemirror_mode": {
    "name": "ipython",
    "version": 3
   },
   "file_extension": ".py",
   "mimetype": "text/x-python",
   "name": "python",
   "nbconvert_exporter": "python",
   "pygments_lexer": "ipython3",
   "version": "3.8.3"
  }
 },
 "nbformat": 4,
 "nbformat_minor": 4
}
